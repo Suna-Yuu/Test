{
 "cells": [
  {
   "cell_type": "markdown",
   "metadata": {},
   "source": [
    "## Table of contents\n",
    "\n",
    "1. [Introduction](./00_intro)\n",
    "    1. [Introduction](./00_intro/00_intro.ipynb)\n",
    "    2. [Python installation](./00_intro/01_py-installation.ipynb)\n",
    "2. [Basic python](./01_basic-python) \n",
    "    1. [Syntax](./01_basic-python/00_syntax.ipynb)\n",
    "    2. [Semantics](./01_basic-python/01_semantics.ipynb)\n",
    "    3. [Data types](./01_basic-python/02_data-types.ipynb)\n",
    "    4. [Conditions and loops](./01_basic-python/03_conditions-and-loops.ipynb)\n",
    "    5. [Functions](./01_basic-python/04_functions.ipynb)\n",
    "    6. [Classes](./01_basic-python/05_classes.ipynb)\n",
    "    7. [Modules](./01_basic-python/06_modules.ipynb)\n",
    "3. [Tools and packages](./02_tools-and-packages)\n",
    "    1. [Tools for Python](./02_tools-and-packages/00_tools-for-python.ipynb)\n",
    "    2. [Plot packages](./02_tools-and-packages/01_plot-packages.ipynb)\n",
    "    3. [NumPy](./02_tools-and-packages/02_numpy.ipynb)\n",
    "    4. [SciPy](./02_tools-and-packages/03_scipy.ipynb)\n",
    "    5. [SymPy](./02_tools-and-packages/04_sympy.ipynb)\n",
    "    6. [Scikit-Learn](./02_tools-and-packages/05_sklearn.ipynb)\n",
    "    7. [Additional packages](./02_tools-and-packages/06_additional-packages.ipynb)\n",
    "4. [Software development](./03_software-development)\n",
    "    1. [Git, Github](./03_software-development/00_git-github.ipynb)\n",
    "    2. [PyTest](./03_software-development/01_pytest.ipynb)\n",
    "    3. [Sphinx](./03_software-development/02_sphinx.ipynb)\n",
    "    4. [Continuous Integration](./03_software-development/03_continuous-integration.ipynb)\n",
    "    5. [Clean Code](./03_software-development/04_clean-code.ipynb)\n",
    "    6. [Workflows](./03_software-development/05_workflows.ipynb)\n",
    "5. [Mini Projects](./04_mini-projects)\n",
    "    1. [Ordinary Differential Equations](./04_mini-projects/00_ode.ipynb)\n",
    "    2. [Vehicle model calibration](./04_mini-projects/01_vehicle-model-calibration.ipynb)\n",
    "    3. [e-Vehicle powertrain modeling](./04_mini-projects/02_e-vehicle-powertrain-model.ipynb)\n",
    "    4. [Deep learning](./04_mini-projects/09_deepl.ipynb)"
   ]
  }
 ],
 "metadata": {
  "kernelspec": {
   "display_name": "Python 3",
   "language": "python",
   "name": "python3"
  },
  "language_info": {
   "codemirror_mode": {
    "name": "ipython",
    "version": 3
   },
   "file_extension": ".py",
   "mimetype": "text/x-python",
   "name": "python",
   "nbconvert_exporter": "python",
   "pygments_lexer": "ipython3",
   "version": "3.7.6"
  },
  "toc": {
   "base_numbering": 1,
   "nav_menu": {},
   "number_sections": true,
   "sideBar": true,
   "skip_h1_title": false,
   "title_cell": "Table of Contents",
   "title_sidebar": "Contents",
   "toc_cell": false,
   "toc_position": {},
   "toc_section_display": true,
   "toc_window_display": false
  },
  "varInspector": {
   "cols": {
    "lenName": 16,
    "lenType": 16,
    "lenVar": 40
   },
   "kernels_config": {
    "python": {
     "delete_cmd_postfix": "",
     "delete_cmd_prefix": "del ",
     "library": "var_list.py",
     "varRefreshCmd": "print(var_dic_list())"
    },
    "r": {
     "delete_cmd_postfix": ") ",
     "delete_cmd_prefix": "rm(",
     "library": "var_list.r",
     "varRefreshCmd": "cat(var_dic_list()) "
    }
   },
   "types_to_exclude": [
    "module",
    "function",
    "builtin_function_or_method",
    "instance",
    "_Feature"
   ],
   "window_display": false
  }
 },
 "nbformat": 4,
 "nbformat_minor": 2
}
